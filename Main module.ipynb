{
 "cells": [
  {
   "cell_type": "code",
   "execution_count": 24,
   "metadata": {
    "collapsed": false
   },
   "outputs": [
   ],
   "source": [
    "# Comment section\n",
    "\n",
    "# Peter: We ought to add a 'pronoun' column to the CSV file, for ease later\n",
    "#        it would unfortunately probably require manual entry :(\n",
    "# Peter: If someone's score is over 10% less than their overall score, \"Unfortunately\"\n",
    "#        could be added to show that this could have improved a student's grade\n",
    "# Peter: Make weighted grades?\n",
    "# Peter: Make students more likely to have higher grade?"
   ]
  },
  {
   "cell_type": "code",
   "execution_count": 3,
   "metadata": {
    "collapsed": false,
    "scrolled": true
   },
   "outputs": [
   ],
   "source": [
    "import csv\n",
    "import random as rng\n",
    "def is_float(x):\n",
    "    '''\n",
    "    takes in string, returns true if string is of format ####, ##.#, -#.#, or -###.\n",
    "    else returns false. returns false with -.\n",
    "    '''\n",
    "    periodcount = 0\n",
    "    if not x:\n",
    "        return False\n",
    "    if x[0] == '-':\n",
    "        if len(x.replace('.','')) == 1:\n",
    "            return False\n",
    "        x = x[1:]\n",
    "    for pos in x:\n",
    "        if  pos in ('1','2','3','4','5','6','7','8','9','0'):\n",
    "            pass\n",
    "        elif pos == '.' and periodcount == 0:\n",
    "            periodcount = 1\n",
    "        else:\n",
    "            return False\n",
    "    return True\n",
    "\n",
    "# Compiles a dictionary containing the first, last, and preferred names of each student, their preferred pronouns, and their scores for each category\n",
    "stud_dict = {}\n",
    "file = [line for line in csv.reader(open('student_grades.csv', 'r'))]\n",
    "headers = file.pop(0)\n",
    "for stud in file:\n",
    "    name = str(f'{stud[1]} {stud[0]}')\n",
    "    stud_dict[name] = {}\n",
    "    for tag in range(len(headers)):\n",
    "        if is_float(stud[tag]):\n",
    "            stud_dict[name][headers[tag]] = float(stud[tag])\n",
    "        else:\n",
    "            stud_dict[name][headers[tag]] = stud[tag]\n",
    "del file # Just to free up memory space and all that (does not actually delete files)"
   ]
  },
  {
   "cell_type": "code",
   "execution_count": 4,
   "metadata": {
    "collapsed": false
   },
   "outputs": [
   ],
   "source": [
    "import random as rand\n",
    "#returns a random adjective describing a student's score in a particular area\n",
    "\n",
    "def score_class(num):\n",
    "    if num >= 93:\n",
    "        return 'pos'\n",
    "    elif num >= 90:\n",
    "        return 'pneu'\n",
    "    elif num >= 83:\n",
    "        return 'nneu'\n",
    "    else:\n",
    "        return 'neg'\n",
    "\n",
    "\n",
    "#Generating Random Feedback\n",
    "sent_dict = {'pos': ['stellar','excellent','amazing','incredible'],\n",
    "            'pneu': ['satisfactory','remarkable','commendable','admirable'],\n",
    "            'nneu': ['decent','adequate','fair','passable'],\n",
    "             'neg': ['worrying','lacking','deficient','unsatisfactory']}\n",
    "def feedback(flt):\n",
    "    return rand.choice(sent_dict[score_class(flt)])\n",
    "\n",
    "#Replaces the first name placeholder with the student's first name\n",
    "def name_replace(in1):\n",
    "    in1 = in1.replace('<name>', grades['First']).replace('<namep>', grades['First'] + \"'s\")\n",
    "    return in1\n",
    "\n",
    "#Replaces the first name placeholder with the student's preferred pronoun\n",
    "def pr_replace(in2):\n",
    "    in2 = in2.replace('<name>', prn[0]).replace('<namep>', prn[2])\n",
    "    return in2\n",
    "\n",
    "#Combines assessments of a student's performance in multiple categories\n",
    "def combine(in1, in2, comb):\n",
    "    in1 = name_replace(in1)\n",
    "    in2 = pr_replace(in2)\n",
    "    return in1 + f', {comb} ' + in2 + '. '\n",
    "\n",
    "#converts a float score into a grade\n",
    "def int_to_grade(flt):\n",
    "    pct = int(flt)\n",
    "    if pct >= 93:\n",
    "        return 'A'\n",
    "    elif pct >= 90:\n",
    "        return 'A-'\n",
    "    elif pct >= 87:\n",
    "        return 'B+'\n",
    "    elif pct >= 83:\n",
    "        return 'B'\n",
    "    else:\n",
    "        return 'B-'"
   ]
  },
  {
   "cell_type": "code",
   "execution_count": 0,
   "metadata": {
    "collapsed": false,
    "scrolled": true
   },
   "outputs": [
   ],
   "source": [
   ]
  },
  {
   "cell_type": "code",
   "execution_count": 8,
   "metadata": {
    "collapsed": false
   },
   "outputs": [
   ],
   "source": [
    "#Compiling a file with student's name, preferred pronouns, and the course description\n",
    "for stud, grades in stud_dict.items():\n",
    "    if grades['First'] != grades['Preferred']:\n",
    "        q = f'''{grades['First']} \"{grades['Preferred']}\" {grades['Last']}'''\n",
    "    else:\n",
    "        q = f'''{grades['First']} {grades['Last']}'''\n",
    "    # 'q' is student's full name with nickname, if applicable (i.e. Zachary \"Zach\" Rahimian)\n",
    "    cstring = f\"Comments for {q}:\\n\\n\" + open('course_description.txt', 'r').read() + '\\n\\n'\n",
    "    if grades['Pronoun'] == 'h':\n",
    "        prn = ['he', 'him', 'his']\n",
    "    else:\n",
    "        prn = ['she', 'her', 'her']\n",
    "    #\n",
    "    # creates a customized sentence commenting on the student's work ethic\n",
    "    strdct = {}\n",
    "    adj = feedback(grades['work_ethic']).lower()\n",
    "    if adj[0] in 'aeiou':\n",
    "        strdct['work_ethic'] = f\"<name> has an {adj} work ethic\"\n",
    "    else:\n",
    "        strdct['work_ethic'] = f\"<name> has a {adj} work ethic\"\n",
    "    #\n",
    "    # creates a customized sentence commenting on the student's habits\n",
    "    adj = feedback(grades['habits']).lower()\n",
    "    strdct['habits'] = f\"<namep> habits are {adj}\"\n",
    "    #\n",
    "    # creates a customized sentence commenting on the student's homework completion\n",
    "    adj = feedback(grades['homework']).lower()\n",
    "    strdct['homework'] = f\"<name> completes the nightly homework to {adj} standards\"\n",
    "    #\n",
    "    # creates a customized sentence commenting on the student's class participation\n",
    "    adj = feedback(grades['participation']).lower()\n",
    "    strdct['participation'] = f\"Overall, <namep> participation this class is <class>{adj}\"\n",
    "    #\n",
    "    # creates a customized sentence commenting on the level of comfort the student has with asking questions\n",
    "    adj = score_class(grades['asks_questions']).lower()\n",
    "    if adj == 'pos':\n",
    "        adj = 'fully'\n",
    "    elif adj == 'pneu':\n",
    "        adj = 'mostly'\n",
    "    elif adj == 'nneu':\n",
    "        adj = 'somewhat'\n",
    "    else:\n",
    "        adj = 'not very'\n",
    "    strdct['asks_questions'] = f\"<name> is {adj} comfortable with asking questions\"\n",
    "    #\n",
    "    # creates a customized sentence commenting on the student's test average\n",
    "    adj = feedback(grades['test_avg']).lower()\n",
    "    strdct['test_avg'] = f\"<namep> test average is {adj}\"\n",
    "    #\n",
    "    # creates a customized sentence commenting on the student's final exam score\n",
    "    adj = feedback(grades['final_score']).lower()\n",
    "    strdct['final_score'] = f\"<namep> performance on the final exam was {adj}\"\n",
    "    #\n",
    "    # creates a customized sentence commenting on the student's overall grade for the class\n",
    "    adj = feedback(grades['overall_grade']).lower()\n",
    "    strdct['overall_grade'] = f\"<namep> overall grade was {adj}\"\n",
    "    #\n",
    "    #Compiling student's individual comments\n",
    "    del adj\n",
    "    kd = {}\n",
    "    for category in strdct:\n",
    "        kd[category] = score_class(grades[category])\n",
    "    if kd['work_ethic'][0] == kd['habits'][0] and kd['work_ethic'][0] == 'p':\n",
    "        cstring += combine(strdct['work_ethic'], strdct['habits'], 'and')\n",
    "    elif kd['work_ethic'][0] != kd['habits'][0]:\n",
    "        if kd['work_ethic'][0] == 'p':\n",
    "            cstring += combine(strdct['work_ethic'], strdct['habits'], 'but, unfortunately,')\n",
    "        else:\n",
    "            cstring += combine(strdct['habits'], strdct['work_ethic'], 'however')\n",
    "    else:\n",
    "        cstring += combine(strdct['work_ethic'], strdct['habits'], 'and')\n",
    "    if rng.choice([True, False]):\n",
    "        cstring += name_replace(strdct['homework']) + '. '\n",
    "        if kd['homework'][0] == 'p' and kd['asks_questions'][0] == 'p':\n",
    "            cstring += 'Furthermore, ' + pr_replace(strdct['asks_questions']) + '. '\n",
    "        else:\n",
    "            cstring += prn[0][0].upper() + pr_replace(strdct['asks_questions'])[1:] + '. '\n",
    "    else:\n",
    "        cstring += pr_replace(strdct['homework']) + '. '\n",
    "        if kd['homework'][0] == 'p' and kd['asks_questions'][0] == 'p':\n",
    "            cstring += 'Furthermore, ' + name_replace(strdct['asks_questions']) + '. '\n",
    "        else:\n",
    "            cstring += name_replace(strdct['asks_questions']) + '. '\n",
    "    cstring += name_replace(strdct['participation']).replace('<class>', '') + f\", with an overall grade of {int_to_grade(grades['participation'])}.\\n\\n\"\n",
    "    cstring += grades['First'] + \"'s performance this semester has been \" + feedback(grades['overall_grade']) + '. '\n",
    "    cstring += prn[0].title() + f\" has recieved {int_to_grade(grades['test_avg'])}s on most of {prn[2]} tests, with a {int_to_grade(grades['final_score'])} grade on the final exam. \"\n",
    "    cstring += grades['First'] + f\" has ended the semester with a grade of {int_to_grade(grades['overall_grade'])}.\\n\\n\"\n",
    "    out = open(f\"Student_Output/{stud}.txt\", 'w')\n",
    "    if stud != 'Henry Gillespie':\n",
    "        out.write(cstring.strip())\n",
    "\n",
    "    else:\n",
    "        out.write()"
   ]
  },
  {
   "cell_type": "code",
   "execution_count": 0,
   "metadata": {
    "collapsed": false
   },
   "outputs": [
   ],
   "source": [
   ]
  },
  {
   "cell_type": "code",
   "execution_count": 0,
   "metadata": {
    "collapsed": false,
    "scrolled": true
   },
   "outputs": [
   ],
   "source": [
   ]
  }
 ],
 "metadata": {
  "kernelspec": {
   "display_name": "Python 3 (system-wide)",
   "language": "python",
   "metadata": {
    "cocalc": {
     "description": "Python 3 programming language",
     "priority": 100,
     "url": "https://www.python.org/"
    }
   },
   "name": "python3"
  },
  "language_info": {
   "codemirror_mode": {
    "name": "ipython",
    "version": 3
   },
   "file_extension": ".py",
   "mimetype": "text/x-python",
   "name": "python",
   "nbconvert_exporter": "python",
   "pygments_lexer": "ipython3",
   "version": "3.6.9"
  }
 },
 "nbformat": 4,
 "nbformat_minor": 0
}