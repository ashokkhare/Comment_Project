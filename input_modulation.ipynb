{
 "cells": [
  {
   "cell_type": "code",
   "execution_count": 8,
   "metadata": {
    "collapsed": false,
    "scrolled": true
   },
   "outputs": [
   ],
   "source": [
    "# this is meant to function as a revision of name_csv, including pronouns (for ease of use later)\n",
    "import csv\n",
    "revised_list = [line for line in csv.reader(open('name_csv.csv', 'r'))]\n",
    "headers = revised_list.pop(0)\n",
    "hnames = ['Alex', 'Ryan', 'Jack', 'Colin', 'Simon', 'Mason', 'Matt',\n",
    "          'Hayden', 'Max', 'Thomas', 'Jacen', 'Dustin', 'Hugh', 'Matthew', 'John',\n",
    "          'Christopher', 'Ethan', 'Henry', 'Nicholas', 'Lincoln', 'Evan',\n",
    "          'Jonah', 'Tadhg', 'Kennedy', 'Daniel', 'Ashok', 'Ian', 'Tod', 'Justin',\n",
    "          'Aneesh', 'Cameron', 'Jackson', 'David', 'Andre', 'SkyCat', 'Red',\n",
    "          'Viraj', 'Luca', 'Asa', 'Cheney', 'Musa', 'Walker', 'Garrett', 'Luke', 'Frank', 'Ant',\n",
    "          'Anshul', 'Andrew', 'Emilio', 'Vernon', 'Charlie', 'Oliver', 'Kanye', 'Gucci', 'Trevor',\n",
    "          'Abe', 'Darren', 'Teddy', 'Noah', 'Jason', 'ZW', 'Zach']\n",
    "snames = ['Jillian', 'Audrey','Lauren', 'Claire', 'Kendall', 'Anna', 'Meaghan',\n",
    "          'Stephanie', 'Isabelle', 'Noe', 'Lucy', 'Sherry', 'Rachel', 'Maud',\n",
    "          'Olivia', 'Emily', 'Paige', 'Lydia', 'Maya', 'Alma', 'Joanna', 'Addison',\n",
    "          'Ella', 'Alexa', 'Lexi', 'Sophie', 'Skye', 'Sara',\n",
    "          'Christina', 'Sheilan', 'Simran', 'Aashna', 'Rhea', 'Ellie', 'Brooke', 'Ky', 'Harper',\n",
    "          'Sydney', 'Lola', 'Greta', 'Amanda', 'Zoe', 'Megan', 'Maddy', 'Mary', 'Ava', 'Kelly',\n",
    "          'Maxine', 'Hannah', 'Madeleine', 'Ingrid', 'Jane', 'Bridget', 'Grace', 'Daisy', 'Emma',\n",
    "          'Sarah', 'Vasti', 'Rebecca', 'Becca', 'Susan', 'Samantha', 'Gracie', 'Tara', 'Ekki',\n",
    "          'Alison', 'Aida']\n",
    "for line in range(len(revised_list)):\n",
    "    if revised_list[line][2] in hnames:\n",
    "        p = 'h'\n",
    "    else:\n",
    "        p = 's'\n",
    "    revised_list[line].insert(3, p)\n",
    "headers.insert(3, 'Pronoun')\n",
    "revised_list.insert(0, headers)\n",
    "file = csv.writer(open('name_csv.csv', 'w'))\n",
    "for line in revised_list:\n",
    "    file.writerow(line)"
   ]
  },
  {
   "cell_type": "code",
   "execution_count": 2,
   "metadata": {
    "collapsed": false
   },
   "outputs": [
   ],
   "source": [
    "import random as rng\n",
    "import csv\n",
    "raw_in = [line[:4] for line in csv.reader(open('name_csv.csv', 'r'))]\n",
    "tags = ['work_ethic', 'habits', 'homework', 'participation',\n",
    "        'asks_questions', 'test_avg', 'final_score', 'overall_grade']\n",
    "headers = raw_in.pop(0) + tags\n",
    "for x in range(len(raw_in)):\n",
    "    for item in tags[:-1]:\n",
    "        q = rng.randint(-50, 200)/10\n",
    "        if q < 0:\n",
    "            raw_in[x].append(100.0)\n",
    "        else:\n",
    "            raw_in[x].append(100.0 - q)\n",
    "    q = raw_in[x][4:]\n",
    "    raw_in[x].append(float(str(sum(q)/len(q))[:5]))\n",
    "\n",
    "# Writing info from generator to file\n",
    "outloc = csv.writer(open('student_grades.csv', 'w'))\n",
    "outloc.writerow(headers)\n",
    "for info in raw_in:\n",
    "    outloc.writerow(info)"
   ]
  },
  {
   "cell_type": "code",
   "execution_count": 0,
   "metadata": {
    "collapsed": false
   },
   "outputs": [
   ],
   "source": [
   ]
  }
 ],
 "metadata": {
  "kernelspec": {
   "display_name": "Python 3 (system-wide)",
   "language": "python",
   "metadata": {
    "cocalc": {
     "description": "Python 3 programming language",
     "priority": 100,
     "url": "https://www.python.org/"
    }
   },
   "name": "python3"
  },
  "language_info": {
   "codemirror_mode": {
    "name": "ipython",
    "version": 3
   },
   "file_extension": ".py",
   "mimetype": "text/x-python",
   "name": "python",
   "nbconvert_exporter": "python",
   "pygments_lexer": "ipython3",
   "version": "3.6.9"
  }
 },
 "nbformat": 4,
 "nbformat_minor": 0
}